{
 "cells": [
  {
   "cell_type": "code",
   "execution_count": 1,
   "metadata": {
    "id": "X9N0wgTW1OeO"
   },
   "outputs": [],
   "source": [
    "%matplotlib inline\n",
    "import numpy as np\n",
    "import pandas as pd\n",
    "\n",
    "import matplotlib.pyplot as plt\n",
    "import seaborn as sns\n",
    "from collections import Counter\n",
    "\n",
    "import warnings\n",
    "warnings.filterwarnings('ignore')"
   ]
  },
  {
   "cell_type": "code",
   "execution_count": 2,
   "metadata": {
    "colab": {
     "base_uri": "https://localhost:8080/"
    },
    "id": "4_R0NLC11q5R",
    "outputId": "7672287a-55d9-4d58-8446-928670de849d"
   },
   "outputs": [
    {
     "name": "stderr",
     "output_type": "stream",
     "text": [
      "[nltk_data] Downloading package stopwords to\n",
      "[nltk_data]     C:\\Users\\eshas\\AppData\\Roaming\\nltk_data...\n",
      "[nltk_data]   Package stopwords is already up-to-date!\n"
     ]
    }
   ],
   "source": [
    "# Text processing library\n",
    "import nltk\n",
    "nltk.download('stopwords')\n",
    "from nltk.corpus import stopwords"
   ]
  },
  {
   "cell_type": "code",
   "execution_count": 3,
   "metadata": {
    "id": "2CL6LDki1rY7"
   },
   "outputs": [],
   "source": [
    "df_train = pd.read_csv('train.txt', header =None, sep = ';', names = ['Input','Sentiment'], encoding = 'utf-8')\n",
    "df_test = pd.read_csv('test.txt', header = None, sep = ';', names = ['Input','Sentiment'], encoding = 'utf-8')\n",
    "df_val = pd.read_csv('val.txt', header=None, sep = ';', names = ['Input','Sentiment'] , encoding = 'utf-8')"
   ]
  },
  {
   "cell_type": "code",
   "execution_count": 4,
   "metadata": {
    "colab": {
     "base_uri": "https://localhost:8080/",
     "height": 195
    },
    "id": "p3_cvb5Z1rbc",
    "outputId": "baec30a3-632a-41d4-9c1d-ed556025338e"
   },
   "outputs": [
    {
     "data": {
      "text/html": [
       "<div>\n",
       "<style scoped>\n",
       "    .dataframe tbody tr th:only-of-type {\n",
       "        vertical-align: middle;\n",
       "    }\n",
       "\n",
       "    .dataframe tbody tr th {\n",
       "        vertical-align: top;\n",
       "    }\n",
       "\n",
       "    .dataframe thead th {\n",
       "        text-align: right;\n",
       "    }\n",
       "</style>\n",
       "<table border=\"1\" class=\"dataframe\">\n",
       "  <thead>\n",
       "    <tr style=\"text-align: right;\">\n",
       "      <th></th>\n",
       "      <th>Input</th>\n",
       "      <th>Sentiment</th>\n",
       "    </tr>\n",
       "  </thead>\n",
       "  <tbody>\n",
       "    <tr>\n",
       "      <th>0</th>\n",
       "      <td>i didnt feel humiliated</td>\n",
       "      <td>sadness</td>\n",
       "    </tr>\n",
       "    <tr>\n",
       "      <th>1</th>\n",
       "      <td>i can go from feeling so hopeless to so damned...</td>\n",
       "      <td>sadness</td>\n",
       "    </tr>\n",
       "    <tr>\n",
       "      <th>2</th>\n",
       "      <td>im grabbing a minute to post i feel greedy wrong</td>\n",
       "      <td>anger</td>\n",
       "    </tr>\n",
       "    <tr>\n",
       "      <th>3</th>\n",
       "      <td>i am ever feeling nostalgic about the fireplac...</td>\n",
       "      <td>love</td>\n",
       "    </tr>\n",
       "    <tr>\n",
       "      <th>4</th>\n",
       "      <td>i am feeling grouchy</td>\n",
       "      <td>anger</td>\n",
       "    </tr>\n",
       "  </tbody>\n",
       "</table>\n",
       "</div>"
      ],
      "text/plain": [
       "                                               Input Sentiment\n",
       "0                            i didnt feel humiliated   sadness\n",
       "1  i can go from feeling so hopeless to so damned...   sadness\n",
       "2   im grabbing a minute to post i feel greedy wrong     anger\n",
       "3  i am ever feeling nostalgic about the fireplac...      love\n",
       "4                               i am feeling grouchy     anger"
      ]
     },
     "execution_count": 4,
     "metadata": {},
     "output_type": "execute_result"
    }
   ],
   "source": [
    "df_train.head()"
   ]
  },
  {
   "cell_type": "code",
   "execution_count": 5,
   "metadata": {
    "colab": {
     "base_uri": "https://localhost:8080/",
     "height": 195
    },
    "id": "_GMDodG01reD",
    "outputId": "d3380aa7-c72d-4680-9b0d-4eb44f2de3f2"
   },
   "outputs": [
    {
     "data": {
      "text/html": [
       "<div>\n",
       "<style scoped>\n",
       "    .dataframe tbody tr th:only-of-type {\n",
       "        vertical-align: middle;\n",
       "    }\n",
       "\n",
       "    .dataframe tbody tr th {\n",
       "        vertical-align: top;\n",
       "    }\n",
       "\n",
       "    .dataframe thead th {\n",
       "        text-align: right;\n",
       "    }\n",
       "</style>\n",
       "<table border=\"1\" class=\"dataframe\">\n",
       "  <thead>\n",
       "    <tr style=\"text-align: right;\">\n",
       "      <th></th>\n",
       "      <th>Input</th>\n",
       "      <th>Sentiment</th>\n",
       "    </tr>\n",
       "  </thead>\n",
       "  <tbody>\n",
       "    <tr>\n",
       "      <th>0</th>\n",
       "      <td>im feeling rather rotten so im not very ambiti...</td>\n",
       "      <td>sadness</td>\n",
       "    </tr>\n",
       "    <tr>\n",
       "      <th>1</th>\n",
       "      <td>im updating my blog because i feel shitty</td>\n",
       "      <td>sadness</td>\n",
       "    </tr>\n",
       "    <tr>\n",
       "      <th>2</th>\n",
       "      <td>i never make her separate from me because i do...</td>\n",
       "      <td>sadness</td>\n",
       "    </tr>\n",
       "    <tr>\n",
       "      <th>3</th>\n",
       "      <td>i left with my bouquet of red and yellow tulip...</td>\n",
       "      <td>joy</td>\n",
       "    </tr>\n",
       "    <tr>\n",
       "      <th>4</th>\n",
       "      <td>i was feeling a little vain when i did this one</td>\n",
       "      <td>sadness</td>\n",
       "    </tr>\n",
       "  </tbody>\n",
       "</table>\n",
       "</div>"
      ],
      "text/plain": [
       "                                               Input Sentiment\n",
       "0  im feeling rather rotten so im not very ambiti...   sadness\n",
       "1          im updating my blog because i feel shitty   sadness\n",
       "2  i never make her separate from me because i do...   sadness\n",
       "3  i left with my bouquet of red and yellow tulip...       joy\n",
       "4    i was feeling a little vain when i did this one   sadness"
      ]
     },
     "execution_count": 5,
     "metadata": {},
     "output_type": "execute_result"
    }
   ],
   "source": [
    "df_test.head()"
   ]
  },
  {
   "cell_type": "code",
   "execution_count": 6,
   "metadata": {
    "colab": {
     "base_uri": "https://localhost:8080/",
     "height": 195
    },
    "id": "vtGR5q6m1rgf",
    "outputId": "fa4fd4be-61f7-463f-8566-0d5cde033e28"
   },
   "outputs": [
    {
     "data": {
      "text/html": [
       "<div>\n",
       "<style scoped>\n",
       "    .dataframe tbody tr th:only-of-type {\n",
       "        vertical-align: middle;\n",
       "    }\n",
       "\n",
       "    .dataframe tbody tr th {\n",
       "        vertical-align: top;\n",
       "    }\n",
       "\n",
       "    .dataframe thead th {\n",
       "        text-align: right;\n",
       "    }\n",
       "</style>\n",
       "<table border=\"1\" class=\"dataframe\">\n",
       "  <thead>\n",
       "    <tr style=\"text-align: right;\">\n",
       "      <th></th>\n",
       "      <th>Input</th>\n",
       "      <th>Sentiment</th>\n",
       "    </tr>\n",
       "  </thead>\n",
       "  <tbody>\n",
       "    <tr>\n",
       "      <th>0</th>\n",
       "      <td>im feeling quite sad and sorry for myself but ...</td>\n",
       "      <td>sadness</td>\n",
       "    </tr>\n",
       "    <tr>\n",
       "      <th>1</th>\n",
       "      <td>i feel like i am still looking at a blank canv...</td>\n",
       "      <td>sadness</td>\n",
       "    </tr>\n",
       "    <tr>\n",
       "      <th>2</th>\n",
       "      <td>i feel like a faithful servant</td>\n",
       "      <td>love</td>\n",
       "    </tr>\n",
       "    <tr>\n",
       "      <th>3</th>\n",
       "      <td>i am just feeling cranky and blue</td>\n",
       "      <td>anger</td>\n",
       "    </tr>\n",
       "    <tr>\n",
       "      <th>4</th>\n",
       "      <td>i can have for a treat or if i am feeling festive</td>\n",
       "      <td>joy</td>\n",
       "    </tr>\n",
       "  </tbody>\n",
       "</table>\n",
       "</div>"
      ],
      "text/plain": [
       "                                               Input Sentiment\n",
       "0  im feeling quite sad and sorry for myself but ...   sadness\n",
       "1  i feel like i am still looking at a blank canv...   sadness\n",
       "2                     i feel like a faithful servant      love\n",
       "3                  i am just feeling cranky and blue     anger\n",
       "4  i can have for a treat or if i am feeling festive       joy"
      ]
     },
     "execution_count": 6,
     "metadata": {},
     "output_type": "execute_result"
    }
   ],
   "source": [
    "df_val.head()"
   ]
  },
  {
   "cell_type": "code",
   "execution_count": 7,
   "metadata": {
    "colab": {
     "base_uri": "https://localhost:8080/"
    },
    "id": "Ippb9p0w1riz",
    "outputId": "63e11236-6131-48d6-8ebd-baf586be2ce4"
   },
   "outputs": [
    {
     "data": {
      "text/plain": [
       "(16000, 2)"
      ]
     },
     "execution_count": 7,
     "metadata": {},
     "output_type": "execute_result"
    }
   ],
   "source": [
    "df_train.shape"
   ]
  },
  {
   "cell_type": "code",
   "execution_count": 8,
   "metadata": {
    "colab": {
     "base_uri": "https://localhost:8080/"
    },
    "id": "9tFbopx91rmK",
    "outputId": "8cccacf7-11ae-4479-abd7-8eb5f5000093"
   },
   "outputs": [
    {
     "data": {
      "text/plain": [
       "(2000, 2)"
      ]
     },
     "execution_count": 8,
     "metadata": {},
     "output_type": "execute_result"
    }
   ],
   "source": [
    "df_test.shape"
   ]
  },
  {
   "cell_type": "code",
   "execution_count": 9,
   "metadata": {
    "colab": {
     "base_uri": "https://localhost:8080/"
    },
    "id": "2fOID08r2C7f",
    "outputId": "bcaabfdf-38ee-404f-8a5e-ad4e0a1721fc"
   },
   "outputs": [
    {
     "data": {
      "text/plain": [
       "(2000, 2)"
      ]
     },
     "execution_count": 9,
     "metadata": {},
     "output_type": "execute_result"
    }
   ],
   "source": [
    "df_val.shape"
   ]
  },
  {
   "cell_type": "code",
   "execution_count": 10,
   "metadata": {
    "colab": {
     "base_uri": "https://localhost:8080/",
     "height": 279
    },
    "id": "agOKUpEF2EuM",
    "outputId": "a2494c22-5714-4a87-d66c-4748a11fec59"
   },
   "outputs": [
    {
     "data": {
      "image/png": "[encoded data removed]",
      "text/plain": [
       "<Figure size 432x288 with 1 Axes>"
      ]
     },
     "metadata": {
      "needs_background": "light"
     },
     "output_type": "display_data"
    }
   ],
   "source": [
    "sns.countplot(df_train.Sentiment)\n",
    "plt.show()"
   ]
  },
  {
   "cell_type": "code",
   "execution_count": 11,
   "metadata": {
    "colab": {
     "base_uri": "https://localhost:8080/",
     "height": 279
    },
    "id": "pjwJG9Lk2H2P",
    "outputId": "f9f57316-1472-473b-b354-5f1dd6f909b2"
   },
   "outputs": [
    {
     "data": {
      "image/png": "[encoded data removed]",
      "text/plain": [
       "<Figure size 432x288 with 1 Axes>"
      ]
     },
     "metadata": {
      "needs_background": "light"
     },
     "output_type": "display_data"
    }
   ],
   "source": [
    "sns.countplot(df_test.Sentiment)\n",
    "plt.show()"
   ]
  },
  {
   "cell_type": "code",
   "execution_count": 12,
   "metadata": {
    "colab": {
     "base_uri": "https://localhost:8080/",
     "height": 279
    },
    "id": "ZY5nsTSy2NtI",
    "outputId": "a6aefb41-2ac7-43d5-d629-a1ee152174fe"
   },
   "outputs": [
    {
     "data": {
      "image/png": "[encoded data removed]",
      "text/plain": [
       "<Figure size 432x288 with 1 Axes>"
      ]
     },
     "metadata": {
      "needs_background": "light"
     },
     "output_type": "display_data"
    }
   ],
   "source": [
    "sns.countplot(df_val.Sentiment)\n",
    "plt.show()"
   ]
  },
  {
   "cell_type": "code",
   "execution_count": null,
   "metadata": {
    "id": "niOtLSgb2O-B"
   },
   "outputs": [],
   "source": []
  },
  {
   "cell_type": "code",
   "execution_count": 13,
   "metadata": {
    "colab": {
     "base_uri": "https://localhost:8080/"
    },
    "id": "114SIJdL2RaE",
    "outputId": "b8288037-3b1c-447d-ae9d-522c1d3f4b63"
   },
   "outputs": [
    {
     "name": "stdout",
     "output_type": "stream",
     "text": [
      "Requirement already satisfied: text_hammer in e:\\env\\lib\\site-packages (0.1.5)\n",
      "Requirement already satisfied: spacy in e:\\env\\lib\\site-packages (from text_hammer) (3.0.6)\n",
      "Requirement already satisfied: beautifulsoup4==4.9.1 in e:\\env\\lib\\site-packages (from text_hammer) (4.9.1)\n",
      "Requirement already satisfied: numpy in e:\\env\\lib\\site-packages (from text_hammer) (1.19.5)\n",
      "Requirement already satisfied: TextBlob in e:\\env\\lib\\site-packages (from text_hammer) (0.15.3)\n",
      "Requirement already satisfied: pandas in e:\\env\\lib\\site-packages (from text_hammer) (1.2.4)\n",
      "Requirement already satisfied: soupsieve>1.2 in e:\\env\\lib\\site-packages (from beautifulsoup4==4.9.1->text_hammer) (2.2.1)\n",
      "Requirement already satisfied: python-dateutil>=2.7.3 in e:\\env\\lib\\site-packages (from pandas->text_hammer) (2.8.1)\n",
      "Requirement already satisfied: pytz>=2017.3 in e:\\env\\lib\\site-packages (from pandas->text_hammer) (2021.1)\n",
      "Requirement already satisfied: six>=1.5 in e:\\env\\lib\\site-packages (from python-dateutil>=2.7.3->pandas->text_hammer) (1.15.0)\n",
      "Requirement already satisfied: requests<3.0.0,>=2.13.0 in e:\\env\\lib\\site-packages (from spacy->text_hammer) (2.25.1)\n",
      "Requirement already satisfied: srsly<3.0.0,>=2.4.1 in e:\\env\\lib\\site-packages (from spacy->text_hammer) (2.4.1)\n",
      "Requirement already satisfied: tqdm<5.0.0,>=4.38.0 in e:\\env\\lib\\site-packages (from spacy->text_hammer) (4.61.0)\n",
      "Requirement already satisfied: pydantic<1.8.0,>=1.7.1 in e:\\env\\lib\\site-packages (from spacy->text_hammer) (1.7.4)\n",
      "Requirement already satisfied: spacy-legacy<3.1.0,>=3.0.4 in e:\\env\\lib\\site-packages (from spacy->text_hammer) (3.0.5)\n",
      "Requirement already satisfied: typer<0.4.0,>=0.3.0 in e:\\env\\lib\\site-packages (from spacy->text_hammer) (0.3.2)\n",
      "Requirement already satisfied: murmurhash<1.1.0,>=0.28.0 in e:\\env\\lib\\site-packages (from spacy->text_hammer) (1.0.5)\n",
      "Requirement already satisfied: catalogue<2.1.0,>=2.0.3 in e:\\env\\lib\\site-packages (from spacy->text_hammer) (2.0.4)\n",
      "Requirement already satisfied: setuptools in e:\\env\\lib\\site-packages (from spacy->text_hammer) (52.0.0.post20210125)\n",
      "Requirement already satisfied: wasabi<1.1.0,>=0.8.1 in e:\\env\\lib\\site-packages (from spacy->text_hammer) (0.8.2)\n",
      "Requirement already satisfied: jinja2 in e:\\env\\lib\\site-packages (from spacy->text_hammer) (3.0.0)\n",
      "Requirement already satisfied: thinc<8.1.0,>=8.0.3 in e:\\env\\lib\\site-packages (from spacy->text_hammer) (8.0.3)\n",
      "Requirement already satisfied: blis<0.8.0,>=0.4.0 in e:\\env\\lib\\site-packages (from spacy->text_hammer) (0.7.4)\n",
      "Requirement already satisfied: cymem<2.1.0,>=2.0.2 in e:\\env\\lib\\site-packages (from spacy->text_hammer) (2.0.5)\n",
      "Requirement already satisfied: pathy>=0.3.5 in e:\\env\\lib\\site-packages (from spacy->text_hammer) (0.5.2)\n",
      "Requirement already satisfied: preshed<3.1.0,>=3.0.2 in e:\\env\\lib\\site-packages (from spacy->text_hammer) (3.0.5)\n",
      "Requirement already satisfied: packaging>=20.0 in e:\\env\\lib\\site-packages (from spacy->text_hammer) (20.9)\n",
      "Requirement already satisfied: pyparsing>=2.0.2 in e:\\env\\lib\\site-packages (from packaging>=20.0->spacy->text_hammer) (2.4.7)\n",
      "Requirement already satisfied: smart-open<4.0.0,>=2.2.0 in e:\\env\\lib\\site-packages (from pathy>=0.3.5->spacy->text_hammer) (3.0.0)\n",
      "Requirement already satisfied: urllib3<1.27,>=1.21.1 in e:\\env\\lib\\site-packages (from requests<3.0.0,>=2.13.0->spacy->text_hammer) (1.26.4)\n",
      "Requirement already satisfied: certifi>=2017.4.17 in e:\\env\\lib\\site-packages (from requests<3.0.0,>=2.13.0->spacy->text_hammer) (2020.12.5)\n",
      "Requirement already satisfied: chardet<5,>=3.0.2 in e:\\env\\lib\\site-packages (from requests<3.0.0,>=2.13.0->spacy->text_hammer) (4.0.0)\n",
      "Requirement already satisfied: idna<3,>=2.5 in e:\\env\\lib\\site-packages (from requests<3.0.0,>=2.13.0->spacy->text_hammer) (2.10)\n",
      "Requirement already satisfied: click<7.2.0,>=7.1.1 in e:\\env\\lib\\site-packages (from typer<0.4.0,>=0.3.0->spacy->text_hammer) (7.1.2)\n",
      "Requirement already satisfied: MarkupSafe>=2.0.0rc2 in e:\\env\\lib\\site-packages (from jinja2->spacy->text_hammer) (2.0.1)\n",
      "Requirement already satisfied: nltk>=3.1 in e:\\env\\lib\\site-packages (from TextBlob->text_hammer) (3.6.2)\n",
      "Requirement already satisfied: regex in e:\\env\\lib\\site-packages (from nltk>=3.1->TextBlob->text_hammer) (2021.4.4)\n",
      "Requirement already satisfied: joblib in e:\\env\\lib\\site-packages (from nltk>=3.1->TextBlob->text_hammer) (1.0.1)\n",
      "Note: you may need to restart the kernel to use updated packages.\n"
     ]
    }
   ],
   "source": [
    "pip install text_hammer"
   ]
  },
  {
   "cell_type": "code",
   "execution_count": 16,
   "metadata": {
    "id": "pLmublWp2ZhS"
   },
   "outputs": [],
   "source": [
    "import text_hammer as th"
   ]
  },
  {
   "cell_type": "code",
   "execution_count": 19,
   "metadata": {
    "id": "W6QajV3P2dvV"
   },
   "outputs": [],
   "source": [
    "# These are series of preprocessing\n",
    "df_train['Input'] = df_train['Input'].apply(lambda x: th.cont_exp(x)) #you're -> you are; i'm -> i am\n",
    "df_train['Input'] = df_train['Input'].apply(lambda x: th.remove_emails(x))\n",
    "\n",
    "\n",
    "df_train['Input'] = df_train['Input'].apply(lambda x: th.remove_special_chars(x))\n",
    "df_train['Input'] = df_train['Input'].apply(lambda x: th.remove_accented_chars(x))\n"
   ]
  },
  {
   "cell_type": "code",
   "execution_count": 25,
   "metadata": {
    "id": "2sVuqlsG2gJF"
   },
   "outputs": [],
   "source": [
    "df_train['Input'] = df_train['Input'].apply(lambda x: th.make_base(x)) #ran -> run"
   ]
  },
  {
   "cell_type": "code",
   "execution_count": 26,
   "metadata": {
    "id": "AoMfat8Y_hLM"
   },
   "outputs": [],
   "source": [
    "#df_train['Input'][100:] = df_train['Input'][100:].apply(lambda x: th.make_base(x)) #ran -> run"
   ]
  },
  {
   "cell_type": "code",
   "execution_count": 27,
   "metadata": {
    "id": "X6qCAuCz2jC6"
   },
   "outputs": [],
   "source": [
    "# These are series of preprocessing\n",
    "df_test['Input'] = df_test['Input'].apply(lambda x: th.cont_exp(x)) #you're -> you are; i'm -> i am\n",
    "df_test['Input'] = df_test['Input'].apply(lambda x: th.remove_emails(x))\n",
    "\n",
    "\n",
    "df_test['Input'] = df_test['Input'].apply(lambda x: th.remove_special_chars(x))\n",
    "df_test['Input'] = df_test['Input'].apply(lambda x: th.remove_accented_chars(x))"
   ]
  },
  {
   "cell_type": "code",
   "execution_count": null,
   "metadata": {
    "id": "FEn5W4IZ_fiy"
   },
   "outputs": [],
   "source": []
  },
  {
   "cell_type": "code",
   "execution_count": 28,
   "metadata": {
    "id": "r127Y3iD2jFQ"
   },
   "outputs": [],
   "source": [
    "df_test['Input'] = df_test['Input'].apply(lambda x: th.make_base(x)) #ran -> run"
   ]
  },
  {
   "cell_type": "code",
   "execution_count": 29,
   "metadata": {
    "id": "D5xjmgdI2jH0"
   },
   "outputs": [],
   "source": [
    "df_train['Sentiment']=df_train.Sentiment.replace({'joy':0,'anger':1,'love':2,'sadness':3,'fear':4,'surprise':5})\n",
    "df_test['Sentiment']=df_test.Sentiment.replace({'joy':0,'anger':1,'love':2,'sadness':3,'fear':4,'surprise':5})\n",
    "df_val['Sentiment']=df_val.Sentiment.replace({'joy':0,'anger':1,'love':2,'sadness':3,'fear':4,'surprise':5})"
   ]
  },
  {
   "cell_type": "code",
   "execution_count": 30,
   "metadata": {
    "colab": {
     "base_uri": "https://localhost:8080/",
     "height": 195
    },
    "id": "Y4RYZ2M52jKC",
    "outputId": "c461800d-7263-4b51-ca2d-683ac56280e2"
   },
   "outputs": [
    {
     "data": {
      "text/html": [
       "<div>\n",
       "<style scoped>\n",
       "    .dataframe tbody tr th:only-of-type {\n",
       "        vertical-align: middle;\n",
       "    }\n",
       "\n",
       "    .dataframe tbody tr th {\n",
       "        vertical-align: top;\n",
       "    }\n",
       "\n",
       "    .dataframe thead th {\n",
       "        text-align: right;\n",
       "    }\n",
       "</style>\n",
       "<table border=\"1\" class=\"dataframe\">\n",
       "  <thead>\n",
       "    <tr style=\"text-align: right;\">\n",
       "      <th></th>\n",
       "      <th>Input</th>\n",
       "      <th>Sentiment</th>\n",
       "    </tr>\n",
       "  </thead>\n",
       "  <tbody>\n",
       "    <tr>\n",
       "      <th>0</th>\n",
       "      <td>I do nt feel humiliated</td>\n",
       "      <td>3</td>\n",
       "    </tr>\n",
       "    <tr>\n",
       "      <th>1</th>\n",
       "      <td>I can go from feel so hopeless to so damn hope...</td>\n",
       "      <td>3</td>\n",
       "    </tr>\n",
       "    <tr>\n",
       "      <th>2</th>\n",
       "      <td>I m grab a minute to post I feel greedy wrong</td>\n",
       "      <td>1</td>\n",
       "    </tr>\n",
       "    <tr>\n",
       "      <th>3</th>\n",
       "      <td>I am ever feel nostalgic about the fireplace I...</td>\n",
       "      <td>2</td>\n",
       "    </tr>\n",
       "    <tr>\n",
       "      <th>4</th>\n",
       "      <td>I am feel grouchy</td>\n",
       "      <td>1</td>\n",
       "    </tr>\n",
       "  </tbody>\n",
       "</table>\n",
       "</div>"
      ],
      "text/plain": [
       "                                               Input  Sentiment\n",
       "0                            I do nt feel humiliated          3\n",
       "1  I can go from feel so hopeless to so damn hope...          3\n",
       "2      I m grab a minute to post I feel greedy wrong          1\n",
       "3  I am ever feel nostalgic about the fireplace I...          2\n",
       "4                                  I am feel grouchy          1"
      ]
     },
     "execution_count": 30,
     "metadata": {},
     "output_type": "execute_result"
    }
   ],
   "source": [
    "df_train.head()"
   ]
  },
  {
   "cell_type": "code",
   "execution_count": 31,
   "metadata": {
    "colab": {
     "base_uri": "https://localhost:8080/",
     "height": 195
    },
    "id": "dNtVFDFk2jMZ",
    "outputId": "2fb2ae0d-3ab4-4398-c7c6-c8e0a96c2dd4"
   },
   "outputs": [
    {
     "data": {
      "text/html": [
       "<div>\n",
       "<style scoped>\n",
       "    .dataframe tbody tr th:only-of-type {\n",
       "        vertical-align: middle;\n",
       "    }\n",
       "\n",
       "    .dataframe tbody tr th {\n",
       "        vertical-align: top;\n",
       "    }\n",
       "\n",
       "    .dataframe thead th {\n",
       "        text-align: right;\n",
       "    }\n",
       "</style>\n",
       "<table border=\"1\" class=\"dataframe\">\n",
       "  <thead>\n",
       "    <tr style=\"text-align: right;\">\n",
       "      <th></th>\n",
       "      <th>Input</th>\n",
       "      <th>Sentiment</th>\n",
       "    </tr>\n",
       "  </thead>\n",
       "  <tbody>\n",
       "    <tr>\n",
       "      <th>0</th>\n",
       "      <td>I m feel rather rotten so I m not very ambitio...</td>\n",
       "      <td>3</td>\n",
       "    </tr>\n",
       "    <tr>\n",
       "      <th>1</th>\n",
       "      <td>I m update my blog because I feel shitty</td>\n",
       "      <td>3</td>\n",
       "    </tr>\n",
       "    <tr>\n",
       "      <th>2</th>\n",
       "      <td>I never make she separate from I because I don...</td>\n",
       "      <td>3</td>\n",
       "    </tr>\n",
       "    <tr>\n",
       "      <th>3</th>\n",
       "      <td>I leave with my bouquet of red and yellow tuli...</td>\n",
       "      <td>0</td>\n",
       "    </tr>\n",
       "    <tr>\n",
       "      <th>4</th>\n",
       "      <td>I was feel a little vain when I do this one</td>\n",
       "      <td>3</td>\n",
       "    </tr>\n",
       "  </tbody>\n",
       "</table>\n",
       "</div>"
      ],
      "text/plain": [
       "                                               Input  Sentiment\n",
       "0  I m feel rather rotten so I m not very ambitio...          3\n",
       "1           I m update my blog because I feel shitty          3\n",
       "2  I never make she separate from I because I don...          3\n",
       "3  I leave with my bouquet of red and yellow tuli...          0\n",
       "4        I was feel a little vain when I do this one          3"
      ]
     },
     "execution_count": 31,
     "metadata": {},
     "output_type": "execute_result"
    }
   ],
   "source": [
    "df_test.head()"
   ]
  },
  {
   "cell_type": "code",
   "execution_count": 32,
   "metadata": {
    "id": "3pJCoDWc2jO2"
   },
   "outputs": [],
   "source": [
    "from keras.preprocessing.text import Tokenizer"
   ]
  },
  {
   "cell_type": "code",
   "execution_count": 33,
   "metadata": {
    "id": "w-ctgMIt2jQy"
   },
   "outputs": [],
   "source": [
    "num_words = 5000 \n",
    "tokenizer = Tokenizer( num_words , lower=True )\n",
    "df_total = pd.concat([df_train['Input'], df_test['Input']], axis = 0)\n",
    "tokenizer.fit_on_texts(df_total)"
   ]
  },
  {
   "cell_type": "code",
   "execution_count": 34,
   "metadata": {
    "id": "9X4rY3Q62jST"
   },
   "outputs": [],
   "source": [
    "X_train = tokenizer.texts_to_sequences(df_train['Input'])\n",
    "X_test = tokenizer.texts_to_sequences(df_test['Input'])\n",
    "X_val = tokenizer.texts_to_sequences(df_val['Input'])"
   ]
  },
  {
   "cell_type": "code",
   "execution_count": 35,
   "metadata": {
    "id": "A4Re83v820TK"
   },
   "outputs": [],
   "source": [
    "from keras.preprocessing.sequence import pad_sequences\n",
    "max_pad = 100\n",
    "X_train_pad = pad_sequences(X_train , maxlen = 100, padding = 'post')\n",
    "\n",
    "X_test_pad = pad_sequences(X_test, maxlen = 100, padding = 'post')\n",
    "\n",
    "X_val_pad = pad_sequences(X_val, maxlen = 100, padding = 'post')"
   ]
  },
  {
   "cell_type": "code",
   "execution_count": 36,
   "metadata": {
    "colab": {
     "base_uri": "https://localhost:8080/"
    },
    "id": "_PSxCg6l20Vd",
    "outputId": "e6e33594-209b-4ee0-dfdd-aeaa50e36446"
   },
   "outputs": [
    {
     "name": "stdout",
     "output_type": "stream",
     "text": [
      "(16000, 100) (2000, 100) (2000, 100)\n"
     ]
    }
   ],
   "source": [
    "print(X_train_pad.shape, X_val_pad.shape, X_test_pad.shape)"
   ]
  },
  {
   "cell_type": "code",
   "execution_count": 37,
   "metadata": {
    "id": "B7KXBtUd20Xq"
   },
   "outputs": [],
   "source": [
    "from keras.utils.np_utils import to_categorical\n",
    "y_train = to_categorical(df_train.Sentiment.values)\n",
    "y_test = to_categorical(df_test.Sentiment.values)\n",
    "y_val = to_categorical(df_val.Sentiment.values)"
   ]
  },
  {
   "cell_type": "code",
   "execution_count": 38,
   "metadata": {
    "colab": {
     "base_uri": "https://localhost:8080/"
    },
    "id": "2Pc2Ze-S20aF",
    "outputId": "943ce5ce-c574-40d4-9112-d997e26cd76b"
   },
   "outputs": [
    {
     "name": "stdout",
     "output_type": "stream",
     "text": [
      "(16000, 6) (2000, 6) (2000, 6)\n"
     ]
    }
   ],
   "source": [
    "print(y_train.shape,y_test.shape, y_val.shape)"
   ]
  },
  {
   "cell_type": "code",
   "execution_count": 39,
   "metadata": {
    "colab": {
     "base_uri": "https://localhost:8080/"
    },
    "id": "YqKO-o_o_7I6",
    "outputId": "d6f72c7f-c07c-4575-aeaa-02d136f57dd1"
   },
   "outputs": [
    {
     "data": {
      "text/plain": [
       "array([0., 0., 0., 1., 0., 0.], dtype=float32)"
      ]
     },
     "execution_count": 39,
     "metadata": {},
     "output_type": "execute_result"
    }
   ],
   "source": [
    "y_train[0]"
   ]
  },
  {
   "cell_type": "code",
   "execution_count": 40,
   "metadata": {
    "id": "tikdYnLv20cp"
   },
   "outputs": [],
   "source": [
    "#from tensorflow.keras.layers import Embedding,LSTM,Dense\n",
    "from keras.models import Sequential\n",
    "from keras.layers import Input, LSTM, Dense , Bidirectional\n",
    "from keras.layers.embeddings import Embedding\n",
    "import keras.backend as K"
   ]
  },
  {
   "cell_type": "code",
   "execution_count": 41,
   "metadata": {
    "id": "OltGD0Fq20fA"
   },
   "outputs": [],
   "source": [
    "EMBEDDING_DIM = 100 # this means the embedding layer will create  a vector in 32 dimension\n",
    "model = Sequential()\n",
    "model.add(Embedding(num_words , EMBEDDING_DIM,  input_length = 100))\n",
    "model.add(Bidirectional(LSTM(200)))\n",
    "model.add(Dense(6, activation = 'softmax'))\n",
    "model.compile(loss = 'categorical_crossentropy', optimizer = 'adam',metrics = 'accuracy')"
   ]
  },
  {
   "cell_type": "code",
   "execution_count": 42,
   "metadata": {
    "colab": {
     "base_uri": "https://localhost:8080/"
    },
    "id": "T7W56D9X20h1",
    "outputId": "d99343d0-433e-4975-8399-67dd51924ed7"
   },
   "outputs": [
    {
     "name": "stdout",
     "output_type": "stream",
     "text": [
      "Model: \"sequential\"\n",
      "_________________________________________________________________\n",
      "Layer (type)                 Output Shape              Param #   \n",
      "=================================================================\n",
      "embedding (Embedding)        (None, 100, 100)          500000    \n",
      "_________________________________________________________________\n",
      "bidirectional (Bidirectional (None, 400)               481600    \n",
      "_________________________________________________________________\n",
      "dense (Dense)                (None, 6)                 2406      \n",
      "=================================================================\n",
      "Total params: 984,006\n",
      "Trainable params: 984,006\n",
      "Non-trainable params: 0\n",
      "_________________________________________________________________\n"
     ]
    }
   ],
   "source": [
    "model.summary()"
   ]
  },
  {
   "cell_type": "code",
   "execution_count": 43,
   "metadata": {
    "colab": {
     "base_uri": "https://localhost:8080/"
    },
    "id": "jwIqobvv6_st",
    "outputId": "1d5c2294-790b-4c65-d020-3b2fc12bf5d7"
   },
   "outputs": [
    {
     "data": {
      "text/plain": [
       "(16000, 100)"
      ]
     },
     "execution_count": 43,
     "metadata": {},
     "output_type": "execute_result"
    }
   ],
   "source": [
    "X_train_pad.shape"
   ]
  },
  {
   "cell_type": "code",
   "execution_count": 44,
   "metadata": {
    "colab": {
     "base_uri": "https://localhost:8080/"
    },
    "id": "eb2y8CPO7CU5",
    "outputId": "2395ae01-ce47-4088-e37c-91ae6251303a"
   },
   "outputs": [
    {
     "data": {
      "text/plain": [
       "(16000, 6)"
      ]
     },
     "execution_count": 44,
     "metadata": {},
     "output_type": "execute_result"
    }
   ],
   "source": [
    "y_train.shape"
   ]
  },
  {
   "cell_type": "code",
   "execution_count": 45,
   "metadata": {
    "colab": {
     "base_uri": "https://localhost:8080/"
    },
    "id": "3Q27XqXP2jVw",
    "outputId": "f37e6cd7-81c5-4f6c-c5d4-cc00c3a3e49b"
   },
   "outputs": [
    {
     "name": "stdout",
     "output_type": "stream",
     "text": [
      "Epoch 1/10\n",
      "125/125 - 133s - loss: 1.5633 - accuracy: 0.3705 - val_loss: 1.3386 - val_accuracy: 0.5110\n",
      "Epoch 2/10\n",
      "125/125 - 98s - loss: 0.8735 - accuracy: 0.6863 - val_loss: 0.8220 - val_accuracy: 0.6830\n",
      "Epoch 3/10\n",
      "125/125 - 103s - loss: 0.4765 - accuracy: 0.8391 - val_loss: 0.5588 - val_accuracy: 0.8100\n",
      "Epoch 4/10\n",
      "125/125 - 98s - loss: 0.2693 - accuracy: 0.9073 - val_loss: 0.4728 - val_accuracy: 0.8450\n",
      "Epoch 5/10\n",
      "125/125 - 102s - loss: 0.1879 - accuracy: 0.9344 - val_loss: 0.4407 - val_accuracy: 0.8595\n",
      "Epoch 6/10\n",
      "125/125 - 98s - loss: 0.1417 - accuracy: 0.9506 - val_loss: 0.4751 - val_accuracy: 0.8535\n",
      "Epoch 7/10\n",
      "125/125 - 97s - loss: 0.1141 - accuracy: 0.9588 - val_loss: 0.4698 - val_accuracy: 0.8615\n",
      "Epoch 8/10\n",
      "125/125 - 98s - loss: 0.0990 - accuracy: 0.9662 - val_loss: 0.4457 - val_accuracy: 0.8690\n",
      "Epoch 9/10\n",
      "125/125 - 98s - loss: 0.0838 - accuracy: 0.9722 - val_loss: 0.4891 - val_accuracy: 0.8630\n",
      "Epoch 10/10\n",
      "125/125 - 99s - loss: 0.0713 - accuracy: 0.9756 - val_loss: 0.5207 - val_accuracy: 0.8575\n"
     ]
    },
    {
     "data": {
      "text/plain": [
       "<keras.callbacks.History at 0x2684993f190>"
      ]
     },
     "execution_count": 45,
     "metadata": {},
     "output_type": "execute_result"
    }
   ],
   "source": [
    "model.fit(X_train_pad , y_train , batch_size = 128 , epochs = 10 , verbose = 2 , validation_data = (X_val_pad, y_val))"
   ]
  },
  {
   "cell_type": "code",
   "execution_count": 46,
   "metadata": {
    "colab": {
     "base_uri": "https://localhost:8080/"
    },
    "id": "mb2iJss93ap2",
    "outputId": "6530ba99-9693-40e6-e61c-6adefab4f76f"
   },
   "outputs": [
    {
     "name": "stdout",
     "output_type": "stream",
     "text": [
      "63/63 [==============================] - 5s 80ms/step - loss: 0.4100 - accuracy: 0.8855\n"
     ]
    },
    {
     "data": {
      "text/plain": [
       "[0.4100237190723419, 0.8855000138282776]"
      ]
     },
     "execution_count": 46,
     "metadata": {},
     "output_type": "execute_result"
    }
   ],
   "source": [
    "model.evaluate(X_test_pad, y_test) "
   ]
  },
  {
   "cell_type": "code",
   "execution_count": 47,
   "metadata": {
    "id": "KiovI2nb3asF"
   },
   "outputs": [],
   "source": [
    "y_pred =   np.argmax(model.predict(X_test_pad), axis  =  1)"
   ]
  },
  {
   "cell_type": "code",
   "execution_count": 48,
   "metadata": {
    "id": "jB6Y9UHJ3avk"
   },
   "outputs": [],
   "source": [
    "y_true = np.argmax(y_test, axis = 1)"
   ]
  },
  {
   "cell_type": "code",
   "execution_count": 49,
   "metadata": {
    "colab": {
     "base_uri": "https://localhost:8080/"
    },
    "id": "yfLxN6733aze",
    "outputId": "c5bae5c5-949d-475d-8600-69af73238aa2"
   },
   "outputs": [
    {
     "name": "stdout",
     "output_type": "stream",
     "text": [
      "              precision    recall  f1-score   support\n",
      "\n",
      "           0       0.93      0.90      0.91       716\n",
      "           1       0.85      0.92      0.88       254\n",
      "           2       0.71      0.71      0.71       160\n",
      "           3       0.92      0.95      0.94       559\n",
      "           4       0.90      0.82      0.86       245\n",
      "           5       0.70      0.70      0.70        66\n",
      "\n",
      "    accuracy                           0.89      2000\n",
      "   macro avg       0.83      0.83      0.83      2000\n",
      "weighted avg       0.89      0.89      0.89      2000\n",
      "\n"
     ]
    }
   ],
   "source": [
    "from sklearn import metrics\n",
    "print(metrics.classification_report(y_pred, y_true))"
   ]
  },
  {
   "cell_type": "code",
   "execution_count": 50,
   "metadata": {
    "id": "rqgeL-As3a16"
   },
   "outputs": [],
   "source": [
    "model.save(\"E:/Emotion_Detection.h5\")"
   ]
  },
  {
   "cell_type": "code",
   "execution_count": 51,
   "metadata": {
    "id": "djlwfdWR3a4J"
   },
   "outputs": [],
   "source": [
    "def get_key(value):\n",
    "    dictionary={'joy':0,'anger':1,'love':2,'sadness':3,'fear':4,'surprise':5}\n",
    "    for key,val in dictionary.items():\n",
    "          if (val==value):\n",
    "            return key\n"
   ]
  },
  {
   "cell_type": "code",
   "execution_count": 52,
   "metadata": {
    "id": "O6rMjXrY3a6S"
   },
   "outputs": [],
   "source": [
    "def predict(sentence):\n",
    "    sentence_lst=[]\n",
    "    sentence_lst.append(sentence)\n",
    "    sentence_seq=tokenizer.texts_to_sequences(sentence_lst)\n",
    "    sentence_padded=pad_sequences(sentence_seq,maxlen=300,padding='post')\n",
    "    ans=get_key(model.predict_classes(sentence_padded))\n",
    "    print(\"The emotion predicted is\",ans)"
   ]
  },
  {
   "cell_type": "code",
   "execution_count": 53,
   "metadata": {
    "colab": {
     "base_uri": "https://localhost:8080/"
    },
    "id": "uydbuKUg3a9r",
    "outputId": "a9735f31-9be2-456d-c95e-dd01326a996a"
   },
   "outputs": [
    {
     "name": "stdout",
     "output_type": "stream",
     "text": [
      "Enter a sentence : I hate you\n",
      "WARNING:tensorflow:Model was constructed with shape (None, 100) for input KerasTensor(type_spec=TensorSpec(shape=(None, 100), dtype=tf.float32, name='embedding_input'), name='embedding_input', description=\"created by layer 'embedding_input'\"), but it was called on an input with incompatible shape (None, 300).\n",
      "The emotion predicted is anger\n"
     ]
    }
   ],
   "source": [
    "predict(str(input('Enter a sentence : ')))"
   ]
  },
  {
   "cell_type": "code",
   "execution_count": 57,
   "metadata": {
    "colab": {
     "base_uri": "https://localhost:8080/"
    },
    "id": "fFsj-IH903l1",
    "outputId": "ee338b48-f3a3-46c8-d1a3-97022f3c4da6"
   },
   "outputs": [
    {
     "name": "stdout",
     "output_type": "stream",
     "text": [
      "Enter a sentence : love\n",
      "The emotion predicted is love\n"
     ]
    }
   ],
   "source": [
    "predict(str(input('Enter a sentence : ')))"
   ]
  },
  {
   "cell_type": "code",
   "execution_count": null,
   "metadata": {
    "colab": {
     "base_uri": "https://localhost:8080/"
    },
    "id": "6JnfpQ9I4ebp",
    "outputId": "a975a317-feef-485b-a68c-a58c21a3f1c5"
   },
   "outputs": [],
   "source": []
  },
  {
   "cell_type": "code",
   "execution_count": null,
   "metadata": {
    "id": "SNku0RZT4jF8"
   },
   "outputs": [],
   "source": []
  }
 ],
 "metadata": {
  "colab": {
   "collapsed_sections": [],
   "name": "HackON 2.0.ipynb",
   "provenance": []
  },
  "kernelspec": {
   "display_name": "Python 3",
   "language": "python",
   "name": "python3"
  },
  "language_info": {
   "codemirror_mode": {
    "name": "ipython",
    "version": 3
   },
   "file_extension": ".py",
   "mimetype": "text/x-python",
   "name": "python",
   "nbconvert_exporter": "python",
   "pygments_lexer": "ipython3",
   "version": "3.9.5"
  }
 },
 "nbformat": 4,
 "nbformat_minor": 1
}
